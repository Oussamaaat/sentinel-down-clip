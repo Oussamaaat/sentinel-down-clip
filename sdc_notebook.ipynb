{
 "cells": [
  {
   "attachments": {},
   "cell_type": "markdown",
   "metadata": {},
   "source": [
    "# sentinel-down-clip 🛰️🗺️"
   ]
  },
  {
   "attachments": {},
   "cell_type": "markdown",
   "metadata": {},
   "source": [
    "sentinel-down-clip is a Jupyter Notebook that simplifies the process of querying, downloading, and processing Sentinel satellite data. With its intuitive interface and comprehensive functionalities, it enables easy access to Sentinel data for various applications, including machine learning and deep learning.\n"
   ]
  },
  {
   "attachments": {},
   "cell_type": "markdown",
   "metadata": {},
   "source": [
    "### Installing dependencies : "
   ]
  },
  {
   "attachments": {},
   "cell_type": "markdown",
   "metadata": {},
   "source": [
    "Python [3.8](https://www.python.org/ftp/python/3.8.0/python-3.8.0-amd64.exe) is used here, but you can use any version you want, just make sure it corresponds to the appropriate version of [gdal](https://www.lfd.uci.edu/~gohlke/pythonlibs/#gdal).\n",
    "<br>\n",
    "It is recommended to create a new virtual environement, to ensure a clean and isolated development environment. In your terminal run : "
   ]
  },
  {
   "cell_type": "code",
   "execution_count": null,
   "metadata": {},
   "outputs": [],
   "source": [
    "#python -m venv sdc_env\n",
    "#sdc_env\\Scripts\\activate   "
   ]
  },
  {
   "attachments": {},
   "cell_type": "markdown",
   "metadata": {},
   "source": [
    "⚠️ Make sure to select your venv as kernel and install the packages, install ipykernel if necessary before running the cell.\n",
    "<br>\n",
    "🕓 It takes around 4min to install all the packages.\n",
    "<br>\n"
   ]
  },
  {
   "cell_type": "code",
   "execution_count": null,
   "metadata": {},
   "outputs": [],
   "source": [
    "# !pip install GDAL-3.2.3-cp38-cp38-win_amd64.whl\n",
    "# !pip install keplergl sentinelsat numpy scikit-learn matplotlib "
   ]
  },
  {
   "attachments": {},
   "cell_type": "markdown",
   "metadata": {},
   "source": [
    "### Downloading Sentinel data :"
   ]
  },
  {
   "attachments": {},
   "cell_type": "markdown",
   "metadata": {},
   "source": [
    "1. Run the code below to create a kepler map, navigate to the place of your choice and draw a polygon to fit the region of interest.\n",
    "2. Don't hesitate to change the basemap if needed.\n",
    "3. Then, select the polygon>right click>copy geometry."
   ]
  },
  {
   "cell_type": "code",
   "execution_count": null,
   "metadata": {},
   "outputs": [],
   "source": [
    "# Load an empty map\n",
    "import keplergl as kp\n",
    "import sentinelsat\n",
    "map_1 = kp.KeplerGl()\n",
    "map_1"
   ]
  },
  {
   "attachments": {},
   "cell_type": "markdown",
   "metadata": {},
   "source": [
    "Run this cell, paste the copied geometry, and give a name to it. It'll be saved in the rois folder, if you want to use them again."
   ]
  },
  {
   "cell_type": "code",
   "execution_count": null,
   "metadata": {},
   "outputs": [],
   "source": [
    "import os\n",
    "import shutil\n",
    "\n",
    "pasta = input(\"Paste the copied ROI here: \")\n",
    "user_filename = input(\"Enter your desired filename: \")  \n",
    "\n",
    "geojson_structure = '''\n",
    "{\n",
    "    \"type\": \"FeatureCollection\",\n",
    "    \"features\": [\n",
    "        {\n",
    "            \"type\": \"Feature\",\n",
    "            \"properties\": {},\n",
    "            \"geometry\":\n",
    "'''\n",
    "\n",
    "roi_geojson = geojson_structure + pasta + \"\\n}\\n]}\"\n",
    "\n",
    "with open(\"roi.geojson\", \"w\") as file:\n",
    "    file.write(roi_geojson)\n",
    "\n",
    "roi_folder = os.path.join(\"rois\", user_filename+\".geojson\")\n",
    "\n",
    "with open(roi_folder, \"w\") as new_roi_file:\n",
    "    new_roi_file.write(roi_geojson)\n",
    "\n",
    "print(f\"New ROI saved as {roi_folder}.\")\n",
    "\n"
   ]
  },
  {
   "attachments": {},
   "cell_type": "markdown",
   "metadata": {},
   "source": [
    "To query, check availibility and save footprints of Sentinel-2 MSIL1C data using [Sentinelsat](https://sentinelsat.readthedocs.io/en/stable/index.html), run this snippet. If no products are available just change the date, producttype or the cloud cover value.\n",
    "<br>\n"
   ]
  },
  {
   "cell_type": "code",
   "execution_count": null,
   "metadata": {},
   "outputs": [],
   "source": [
    "!sentinelsat -u username -p password -g roi.geojson -s 20210622 -e 20210628 --sentinel 2 --producttype S2MSI1C --cloud 0 -l 5 --footprints foot.geojson"
   ]
  },
  {
   "attachments": {},
   "cell_type": "markdown",
   "metadata": {},
   "source": [
    "We're now going to look at the footprint of the product(s) available, to check whether our ROI is within it, and tochoose which product to download."
   ]
  },
  {
   "cell_type": "code",
   "execution_count": null,
   "metadata": {},
   "outputs": [],
   "source": [
    "import keplergl as kp\n",
    "with open('roi.geojson', 'r') as f1:\n",
    "    roi = f1.read()\n",
    "\n",
    "with open('foot.geojson', 'r') as f2:\n",
    "    footprint = f2.read()\n",
    "\n",
    "map_2 = kp.KeplerGl(height=600, width=800)\n",
    "map_2.add_data(data=roi, name='roi')\n",
    "map_2.add_data(data=footprint, name='footprint')\n",
    "map_2\n"
   ]
  },
  {
   "attachments": {},
   "cell_type": "markdown",
   "metadata": {},
   "source": [
    "Create the folders in which to save your data."
   ]
  },
  {
   "cell_type": "code",
   "execution_count": null,
   "metadata": {},
   "outputs": [],
   "source": [
    "import os\n",
    "\n",
    "folder_name = input('Enter the name of the folder: ')\n",
    "downdir = os.path.join(os.getcwd(), 'downloads', folder_name)\n",
    "cropdir = os.path.join(os.getcwd(), 'cropped', folder_name)\n",
    "stackdir = os.path.join(os.getcwd(), 'stacked', folder_name)\n",
    "clustdir = os.path.join(os.getcwd(), 'clustered', folder_name)\n",
    "\n",
    "try:\n",
    "    os.mkdir(downdir)\n",
    "    print(\"New folder created at path:\", downdir)\n",
    "except FileExistsError:\n",
    "    print(\"Download folder already exists at path:\", downdir)\n",
    "\n",
    "try:\n",
    "    os.mkdir(cropdir)\n",
    "    print(\"New folder created at path:\", cropdir)\n",
    "except FileExistsError:\n",
    "    print(\"Crop folder already exists at path:\", cropdir)\n",
    "\n",
    "try:\n",
    "    os.mkdir(stackdir)\n",
    "    print(\"New folder created at path:\", stackdir)\n",
    "except FileExistsError:\n",
    "    print(\"Stacking folder already exists at path:\", stackdir)\n",
    "\n",
    "try:\n",
    "    os.mkdir(clustdir)\n",
    "    print(\"New folder created at path:\", clustdir)\n",
    "except FileExistsError:\n",
    "    print(\"Clustering folder already exists at path:\", clustdir)\n"
   ]
  },
  {
   "attachments": {},
   "cell_type": "markdown",
   "metadata": {},
   "source": [
    "To download, just copy and paste the product name in the pname variable. Make sure to copy the right name. If the product is available it'll start downloading, if not, it'll be available 30min. Copernicus Open Access Hub’s quota currently permits users to request an offline product every 30 minutes."
   ]
  },
  {
   "cell_type": "code",
   "execution_count": null,
   "metadata": {},
   "outputs": [],
   "source": [
    "from sentinelsat import SentinelAPI\n",
    "\n",
    "api = SentinelAPI('username', 'password', 'https://scihub.copernicus.eu/dhus')\n",
    "\n",
    "# single file \n",
    "\n",
    "pname = 'db29e28a-9f0b-484f-ae92-a08a451dabf7'\n",
    "product_info = api.get_product_odata(pname)\n",
    "is_online = product_info['Online']\n",
    "# or\n",
    "is_online = api.is_online(pname)\n",
    "\n",
    "if is_online:\n",
    "    print(f'Product {pname} is online. Starting download..')\n",
    "    api.download(pname,downdir)\n",
    "    \n",
    "else:\n",
    "    print(f'Product {pname} is not online. Please retry in 30min.')\n",
    "    api.trigger_offline_retrieval(pname)\n",
    "\n",
    "# multiple files\n",
    "\n",
    "# pname_list = []\n",
    "# for pname in pname_list:\n",
    "#     product_info = api.get_product_odata(pname)\n",
    "#     is_online = product_info['Online']\n",
    "#     # or\n",
    "#     is_online = api.is_online(pname)\n",
    "\n",
    "#     if is_online:\n",
    "#         print(f'Product {pname} is online. Starting download..')\n",
    "#         api.download(pname,downdir)\n",
    "    \n",
    "#     else:\n",
    "#         print(f'Product {pname} is not online. Please retry in 30min.')\n",
    "#         api.trigger_offline_retrieval(pname)"
   ]
  },
  {
   "attachments": {},
   "cell_type": "markdown",
   "metadata": {},
   "source": [
    "You can also download from the terminal using the following command :"
   ]
  },
  {
   "cell_type": "code",
   "execution_count": null,
   "metadata": {},
   "outputs": [],
   "source": [
    "#sentinelsat -u username -p password  --path \"{downdir}\" -d --uuid 27733280-1504-4b01-9b99-8deffb9d9482"
   ]
  },
  {
   "attachments": {},
   "cell_type": "markdown",
   "metadata": {},
   "source": [
    "If you want to download all the results just add -d at the end of your first query."
   ]
  },
  {
   "attachments": {},
   "cell_type": "markdown",
   "metadata": {},
   "source": [
    "### Croping Sentinel data to ROI using [Medusa-tb](https://github.com/aboulch/medusa_tb) :"
   ]
  },
  {
   "attachments": {},
   "cell_type": "markdown",
   "metadata": {},
   "source": [
    "Get the path of the downloaded data."
   ]
  },
  {
   "cell_type": "code",
   "execution_count": null,
   "metadata": {},
   "outputs": [],
   "source": [
    "import glob\n",
    "product = glob.glob(os.path.join(downdir, '*.zip'))\n",
    "if len(product) == 1:\n",
    "    zip_path = product[0]\n",
    "    print(\"Path of the product to crop :\", zip_path)\n",
    "else:\n",
    "    print(\"Multiple zip files exist in the folder.\")"
   ]
  },
  {
   "attachments": {},
   "cell_type": "markdown",
   "metadata": {},
   "source": [
    "Start clipping ✂️"
   ]
  },
  {
   "cell_type": "code",
   "execution_count": null,
   "metadata": {},
   "outputs": [],
   "source": [
    "%run sclip.py --sentinel 2 --archive \"{zip_path}\" --dest \"{cropdir}\" --geojson roi.geojson "
   ]
  },
  {
   "attachments": {},
   "cell_type": "markdown",
   "metadata": {},
   "source": [
    "### Clustering Sentinel data : optional"
   ]
  },
  {
   "attachments": {},
   "cell_type": "markdown",
   "metadata": {},
   "source": [
    "This part was adapted from the [Satellite_Imagery_Python](https://github.com/acgeospatial/Satellite_Imagery_Python) repository."
   ]
  },
  {
   "attachments": {},
   "cell_type": "markdown",
   "metadata": {},
   "source": [
    "Importing the necessary libraries"
   ]
  },
  {
   "cell_type": "code",
   "execution_count": null,
   "metadata": {},
   "outputs": [],
   "source": [
    "import numpy as np\n",
    "from sklearn import cluster\n",
    "from osgeo import gdal, gdal_array"
   ]
  },
  {
   "attachments": {},
   "cell_type": "markdown",
   "metadata": {},
   "source": [
    "Stacking the 13 bands into a single tif file."
   ]
  },
  {
   "cell_type": "code",
   "execution_count": null,
   "metadata": {},
   "outputs": [],
   "source": [
    "from osgeo import gdal\n",
    "\n",
    "outvrt = 'vsimem/stacked.vrt' #/vsimem is special in-memory virtual \"directory\"\n",
    "\n",
    "\n",
    "outtif = stackdir+'/'+folder_name +'_stacked.tif'\n",
    "\n",
    "# To select single bands \n",
    "#tifs = ['..\\T30SUC_20210627T105621_B01.tif', '..\\T30SUC_20210627T105621_B02.tif',...]\n",
    "\n",
    "#or for all tifs in a dir\n",
    "import glob\n",
    "tifs = glob.glob(cropdir+'/*.tif')\n",
    "tifs = [tif for tif in tifs if not tif.endswith(\"TCI.tif\")]\n",
    "\n",
    "outds = gdal.BuildVRT(outvrt, tifs, separate=True)\n",
    "outds = gdal.Translate(outtif, outds)"
   ]
  },
  {
   "attachments": {},
   "cell_type": "markdown",
   "metadata": {},
   "source": [
    "Now we turn the stacked product into numpy arrays."
   ]
  },
  {
   "cell_type": "code",
   "execution_count": null,
   "metadata": {},
   "outputs": [],
   "source": [
    "import numpy as np\n",
    "import glob\n",
    "\n",
    "# Tell GDAL to throw Python exceptions, and register all drivers\n",
    "gdal.UseExceptions()\n",
    "gdal.AllRegister()\n",
    "\n",
    "product = glob.glob(os.path.join(stackdir, '*.tif'))\n",
    "\n",
    "\n",
    "if len(product) == 1:\n",
    "    tif_path = product[0]\n",
    "    # Read in raster image \n",
    "    img_ds = gdal.Open(tif_path, gdal.GA_ReadOnly)\n",
    "\n",
    "\n",
    "    img = np.zeros((img_ds.RasterYSize, img_ds.RasterXSize, img_ds.RasterCount),\n",
    "               gdal_array.GDALTypeCodeToNumericTypeCode(img_ds.GetRasterBand(1).DataType))\n",
    "\n",
    "    for b in range(img.shape[2]):\n",
    "        img[:, :, b] = img_ds.GetRasterBand(b + 1).ReadAsArray()\n",
    "    \n",
    "    new_shape = (img.shape[0] * img.shape[1], img.shape[2])\n",
    "    print (img.shape)\n",
    "\n",
    "    print (new_shape)\n",
    "\n",
    "\n",
    "    X = img[:, :, :13].reshape(new_shape)\n",
    "\n",
    "    print (X.shape)\n",
    "else :\n",
    "    print(\"Multiple tif files exist in the folder. Please check folder and retry.\")  \n",
    "\n"
   ]
  },
  {
   "attachments": {},
   "cell_type": "markdown",
   "metadata": {},
   "source": [
    "Now fit it"
   ]
  },
  {
   "cell_type": "code",
   "execution_count": null,
   "metadata": {},
   "outputs": [],
   "source": [
    "k_means = cluster.KMeans(n_clusters=8)\n",
    "k_means.fit(X)\n",
    "\n",
    "X_cluster = k_means.labels_\n",
    "\n",
    "\n",
    "X_cluster = X_cluster.reshape(img[:, :, 0].shape)\n",
    "\n"
   ]
  },
  {
   "attachments": {},
   "cell_type": "markdown",
   "metadata": {},
   "source": [
    "And plot"
   ]
  },
  {
   "cell_type": "code",
   "execution_count": null,
   "metadata": {},
   "outputs": [],
   "source": [
    "%matplotlib inline  \n",
    "\n",
    "import matplotlib.pyplot as plt\n",
    "print (X_cluster.shape)\n",
    "\n",
    "plt.figure(figsize=(20,20))\n",
    "plt.imshow(X_cluster, cmap=\"hsv\")\n",
    "\n",
    "plt.show()"
   ]
  },
  {
   "attachments": {},
   "cell_type": "markdown",
   "metadata": {},
   "source": [
    "Changing the classification is straight forward. In this example choose MiniBatchKMeans"
   ]
  },
  {
   "cell_type": "code",
   "execution_count": null,
   "metadata": {},
   "outputs": [],
   "source": [
    "MB_KMeans = cluster.MiniBatchKMeans(n_clusters=8)\n",
    "MB_KMeans.fit(X)\n",
    "\n",
    "X_cluster = MB_KMeans.labels_\n",
    "\n",
    "\n",
    "X_cluster = X_cluster.reshape(img[:, :, 0].shape)"
   ]
  },
  {
   "attachments": {},
   "cell_type": "markdown",
   "metadata": {},
   "source": [
    "Plot the result"
   ]
  },
  {
   "cell_type": "code",
   "execution_count": null,
   "metadata": {},
   "outputs": [],
   "source": [
    "plt.figure(figsize=(20,20))\n",
    "plt.imshow(X_cluster, cmap=\"hsv\")\n",
    "\n",
    "plt.show()"
   ]
  },
  {
   "attachments": {},
   "cell_type": "markdown",
   "metadata": {},
   "source": [
    "Finally save the result to a new geotiff"
   ]
  },
  {
   "cell_type": "code",
   "execution_count": null,
   "metadata": {},
   "outputs": [],
   "source": [
    "from osgeo import gdal, gdal_array\n",
    "\n",
    "## write out to tiff\n",
    " \n",
    "\n",
    "ds = gdal.Open(outtif)\n",
    "band = ds.GetRasterBand(1)\n",
    "arr = band.ReadAsArray()\n",
    "[cols, rows] = arr.shape\n",
    "\n",
    "format = \"GTiff\"\n",
    "driver = gdal.GetDriverByName(format)\n",
    "\n",
    "\n",
    "outDataRaster = driver.Create(clustdir+'/'+folder_name+'_clust.gtif', rows, cols, 1, gdal.GDT_Byte)\n",
    "outDataRaster.SetGeoTransform(ds.GetGeoTransform())##sets same geotransform as input\n",
    "outDataRaster.SetProjection(ds.GetProjection())##sets same projection as input\n",
    "\n",
    "\n",
    "outDataRaster.GetRasterBand(1).WriteArray(X_cluster)\n",
    "\n",
    "outDataRaster.FlushCache() ## remove from memory\n",
    "del outDataRaster ## delete the data (not the actual geotiff)"
   ]
  }
 ],
 "metadata": {
  "kernelspec": {
   "display_name": "Python 3 (ipykernel)",
   "language": "python",
   "name": "python3"
  },
  "language_info": {
   "codemirror_mode": {
    "name": "ipython",
    "version": 3
   },
   "file_extension": ".py",
   "mimetype": "text/x-python",
   "name": "python",
   "nbconvert_exporter": "python",
   "pygments_lexer": "ipython3",
   "version": "3.8.0"
  }
 },
 "nbformat": 4,
 "nbformat_minor": 2
}
